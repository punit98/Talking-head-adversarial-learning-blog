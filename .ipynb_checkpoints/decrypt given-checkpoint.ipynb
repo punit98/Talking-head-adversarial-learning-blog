{
 "cells": [
  {
   "cell_type": "code",
   "execution_count": null,
   "metadata": {},
   "outputs": [],
   "source": [
    "print(\"DECRYPTION\")\n",
    "N = int(input(\"Please enter value of N: \"))\n",
    "d = int(input(\"Please enter value of d: \"))\n",
    "print(\"please enter the encrypted numbers separated by space:\")\n",
    "value = input()\n",
    "val = value.split()\n",
    "print(\"value: \", value)\n",
    "\n",
    "\n",
    "for i in range(len(val)):\n",
    "    val[i] = int(val[i])\n",
    "print(\"val: \", val)\n",
    "\n",
    "for i in range(len(val)):\n",
    "    print(\"entered loop, i: \", i)\n",
    "    exp = bin(d)\n",
    "    x = val[i]\n",
    "    print(\"x: \", x)\n",
    "    for j in range(3, len(exp)):\n",
    "        print(\"entered loop loop, j = \", j)\n",
    "        x = x * x\n",
    "        #print(\"x: \", x)\n",
    "        if exp[j:j + 1] == '1':\n",
    "            x = x * val[i]\n",
    "            \n",
    "    val[i] = x % N\n",
    "    print(\"val[i]\", val[i])\n",
    "\n",
    "\n",
    "for i in range(len(val)):\n",
    "    val[i] = hex(val[i]).lstrip(\"0x\")\n",
    "\n",
    "for i in range(len(val)):\n",
    "    val[i] = bytes.fromhex(val[i])\n",
    "    val[i] = val[i].decode(\"ASCII\")\n",
    "\n",
    "print(\"Original message:\")\n",
    "str = \"\"\n",
    "print(str.join(val))"
   ]
  },
  {
   "cell_type": "code",
   "execution_count": null,
   "metadata": {},
   "outputs": [],
   "source": [
    "809966785\n",
    "3525865308\n",
    "15644314 1897365878 217056820 2932537900 2038521126 1292850534 767591559 2480064151\n",
    "\n",
    "\n",
    "10179061 10134729\n",
    "\n",
    "d: 32251001\n",
    "n: 43057747\n",
    "14653880 4562287 40976014 36906075"
   ]
  }
 ],
 "metadata": {
  "kernelspec": {
   "display_name": "Python 3",
   "language": "python",
   "name": "python3"
  },
  "language_info": {
   "codemirror_mode": {
    "name": "ipython",
    "version": 3
   },
   "file_extension": ".py",
   "mimetype": "text/x-python",
   "name": "python",
   "nbconvert_exporter": "python",
   "pygments_lexer": "ipython3",
   "version": "3.8.5"
  }
 },
 "nbformat": 4,
 "nbformat_minor": 4
}
