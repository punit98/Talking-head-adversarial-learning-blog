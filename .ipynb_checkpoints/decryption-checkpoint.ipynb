{
 "cells": [
  {
   "cell_type": "code",
   "execution_count": null,
   "metadata": {},
   "outputs": [],
   "source": [
    "print(\"Decryption\")"
   ]
  },
  {
   "cell_type": "code",
   "execution_count": null,
   "metadata": {},
   "outputs": [],
   "source": [
    "d = int(input(\"Enter d: \"))\n",
    "n = int(input(\"enter n: \"))\n",
    "rsa_msg = input(\"enter encrypted message: \")"
   ]
  },
  {
   "cell_type": "code",
   "execution_count": null,
   "metadata": {},
   "outputs": [],
   "source": [
    "values = rsa_msg.split()\n",
    "print(\"values: \", values)\n",
    "for i in range(len(values)):\n",
    "    values[i] = int(values[i])\n",
    "print(\"values: \", values)"
   ]
  },
  {
   "cell_type": "code",
   "execution_count": null,
   "metadata": {},
   "outputs": [],
   "source": [
    "int_msg = []\n",
    "\n",
    "for i in values:\n",
    "    print(\"entered 1st loop, i: \", values.index(i)+2, \"/\", len(values))\n",
    "    exp = bin(d)\n",
    "    x = int(i)\n",
    "    print(\"x: \", x)\n",
    "    print(\"i:\",i)\n",
    "    for j in range(3, len(exp)):\n",
    "        print(\"entered 2nd loop, j: \", j, \"/\", len(exp)-1)\n",
    "        x = x * x\n",
    "        #print(\"x^2: \", x)\n",
    "        if exp[j: j + 1] == '1':\n",
    "            print(\"exp[j]:\", exp[j])\n",
    "            x = x * i\n",
    "            #print(\"x*i:\", x)\n",
    "    i = x % n \n",
    "    print(\"\\n\\n\\n\")\n",
    "    int_msg.append(i)\n",
    "print(\"message converted to int: \", int_msg)\n",
    "        "
   ]
  },
  {
   "cell_type": "code",
   "execution_count": null,
   "metadata": {},
   "outputs": [],
   "source": [
    "hex_msg = []\n",
    "for i in int_msg:\n",
    "    hex_msg.append(hex(i).lstrip(\"0x\"))\n",
    "print(\"hex_msg: \", hex_msg)\n"
   ]
  },
  {
   "cell_type": "code",
   "execution_count": null,
   "metadata": {},
   "outputs": [],
   "source": [
    "msg = []\n",
    "temp = []\n",
    "plaintext = \"\"\n",
    "\n",
    "for i in range(len(hex_msg)):\n",
    "    temp.append(bytes.fromhex(hex_msg[i]))\n",
    "\n",
    "for i in temp:\n",
    "    msg.append(i.decode(\"ascii\"))\n",
    "\n",
    "for i in msg:\n",
    "    plaintext += i\n",
    "    \n",
    "print(\"plaintext: \", plaintext)"
   ]
  },
  {
   "cell_type": "code",
   "execution_count": null,
   "metadata": {},
   "outputs": [],
   "source": []
  },
  {
   "cell_type": "code",
   "execution_count": null,
   "metadata": {},
   "outputs": [],
   "source": []
  }
 ],
 "metadata": {
  "kernelspec": {
   "display_name": "Python 3",
   "language": "python",
   "name": "python3"
  },
  "language_info": {
   "codemirror_mode": {
    "name": "ipython",
    "version": 3
   },
   "file_extension": ".py",
   "mimetype": "text/x-python",
   "name": "python",
   "nbconvert_exporter": "python",
   "pygments_lexer": "ipython3",
   "version": "3.8.5"
  },
  "toc-autonumbering": false,
  "toc-showcode": false,
  "toc-showmarkdowntxt": false
 },
 "nbformat": 4,
 "nbformat_minor": 4
}
