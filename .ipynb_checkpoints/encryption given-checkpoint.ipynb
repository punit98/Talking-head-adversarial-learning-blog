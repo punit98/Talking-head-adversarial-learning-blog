{
 "cells": [
  {
   "cell_type": "code",
   "execution_count": 1,
   "metadata": {},
   "outputs": [
    {
     "name": "stdout",
     "output_type": "stream",
     "text": [
      "ENCRYPTION\n"
     ]
    },
    {
     "name": "stdin",
     "output_type": "stream",
     "text": [
      "enter text to encrypt:  neellu\n",
      "Enter e value:  999\n",
      "Enter N value:  8674363\n"
     ]
    },
    {
     "name": "stdout",
     "output_type": "stream",
     "text": [
      "hex_val:  ['0x6e6565', '0x6c6c75']\n",
      "int_val:  [7234917, 7105653]\n",
      "Encrypted integers:\n",
      "[4036309, 3373542]\n"
     ]
    }
   ],
   "source": [
    "print(\"ENCRYPTION\")\n",
    "msg = input(\"enter text to encrypt: \")\n",
    "e = int(input(\"Enter e value: \"))\n",
    "N = int(input(\"Enter N value: \"))\n",
    "n = 3\n",
    "val = [msg[i:i + n] for i in range(0, len(msg), n)]  # to split string into small chunks\n",
    "\n",
    "global h1\n",
    "global h2\n",
    "h2 = \"\"\n",
    "k = 0\n",
    "# converting character into hexadecimal form\n",
    "for i in val:\n",
    "    for j in range(len(i)):\n",
    "        if j == 0:\n",
    "            h1 = hex(ord(i[j]))\n",
    "        elif j == 1:\n",
    "            h2 = h1 + format(ord(i[j]), \"x\")\n",
    "        elif j == 2:\n",
    "            h2 = h2 + format(ord(i[j]), \"x\")\n",
    "    val[k] = h2\n",
    "    k = k + 1\n",
    "\n",
    "print(\"hex_val: \", val)\n",
    "    \n",
    "# converting hexadecimal values to integers\n",
    "for i in range(len(val)):\n",
    "    val[i] = int(val[i], 16)\n",
    "    \n",
    "print(\"int_val: \", val)\n",
    "\n",
    "# encryption using square and multiply method\n",
    "for i in range(len(val)):\n",
    "    exp = bin(e)\n",
    "    x = val[i]\n",
    "    for j in range(3, len(exp)):\n",
    "        x = x * x\n",
    "        if exp[j:j + 1] == '1':\n",
    "            x = x * val[i]\n",
    "    val[i] = x % N\n",
    "\n",
    "print(\"Encrypted integers:\")\n",
    "print(val)\n"
   ]
  },
  {
   "cell_type": "code",
   "execution_count": null,
   "metadata": {},
   "outputs": [],
   "source": []
  }
 ],
 "metadata": {
  "kernelspec": {
   "display_name": "Python 3",
   "language": "python",
   "name": "python3"
  },
  "language_info": {
   "codemirror_mode": {
    "name": "ipython",
    "version": 3
   },
   "file_extension": ".py",
   "mimetype": "text/x-python",
   "name": "python",
   "nbconvert_exporter": "python",
   "pygments_lexer": "ipython3",
   "version": "3.8.5"
  }
 },
 "nbformat": 4,
 "nbformat_minor": 4
}
