{
 "cells": [
  {
   "cell_type": "code",
   "execution_count": null,
   "metadata": {},
   "outputs": [],
   "source": [
    "print(\"encryption\")"
   ]
  },
  {
   "cell_type": "code",
   "execution_count": null,
   "metadata": {},
   "outputs": [],
   "source": [
    "plaintext = input(\"enter message to send: \")\n",
    "e = int(input(\"enter value of e: \"))\n",
    "n = int(input(\"enter value of n: \"))\n",
    "chunk_size = 3\n",
    "msg = []\n",
    "\n",
    "for i in range(0, len(plaintext), chunk_size):\n",
    "    msg.append(plaintext[i : i + chunk_size])\n",
    "print(\"msg: \", msg)\n",
    "    "
   ]
  },
  {
   "cell_type": "code",
   "execution_count": null,
   "metadata": {},
   "outputs": [],
   "source": [
    "hex_chunk = \"\"\n",
    "hex_msg = []\n",
    "for chunk in msg:\n",
    "    print(\"chunk: \", chunk)\n",
    "    for j in range(len(chunk)):\n",
    "        if j == 0:\n",
    "            print(\"charcter: \", chunk[j])\n",
    "            hex_char = hex(ord(chunk[j]))\n",
    "            print(\"hex_char: \", hex_char)\n",
    "            hex_chunk += hex_char\n",
    "            print(\"hex_chunk: \", hex_chunk)\n",
    "                \n",
    "        else:\n",
    "            print(\"character: \", chunk[j])\n",
    "            hex_char = hex(ord(chunk[j]))\n",
    "            hex_char = hex_char[2:]\n",
    "            print(\"hex_char: \", hex_char)\n",
    "            hex_chunk += hex_char\n",
    "            print(\"hex_chunk: \", hex_chunk)\n",
    "        \n",
    "    hex_msg.append(hex_chunk)\n",
    "    hex_chunk = \"\"\n",
    "        \n",
    "    \n",
    "    print(\"hex_msg: \", hex_msg)\n",
    "#     hex_msg.append(hex(i))\n"
   ]
  },
  {
   "cell_type": "code",
   "execution_count": null,
   "metadata": {},
   "outputs": [],
   "source": [
    "int_msg = []\n",
    "for i in range(0,len(hex_msg)):\n",
    "    int_msg.append(int(hex_msg[i], 16))\n",
    "print(\"int_msg: \", int_msg)"
   ]
  },
  {
   "cell_type": "code",
   "execution_count": null,
   "metadata": {},
   "outputs": [],
   "source": [
    "rsa_msg = \"\"\n",
    "binary = bin(e)\n",
    "print(\"binary: \", binary)\n",
    "for i in int_msg:\n",
    "    print(\"\\nentered first loop, i:\", int_msg.index(i)+1, \"/\", len(int_msg))\n",
    "    x = i\n",
    "    for j in range(3, len(binary)):\n",
    "        print(\"entered second loop, j: \", j, \"/\", len(binary)-1)\n",
    "        x = x**2\n",
    "        #print(\"x: \", x)\n",
    "        if(binary[j: j+1] == '1'):\n",
    "            x = x * i\n",
    "    rsa_msg += str(x % n)\n",
    "    rsa_msg += \" \"\n",
    "        \n",
    "print(\"\\n\\nencrypted message: \", rsa_msg)\n",
    "    \n",
    "    "
   ]
  },
  {
   "cell_type": "code",
   "execution_count": null,
   "metadata": {},
   "outputs": [],
   "source": []
  }
 ],
 "metadata": {
  "kernelspec": {
   "display_name": "Python 3",
   "language": "python",
   "name": "python3"
  },
  "language_info": {
   "codemirror_mode": {
    "name": "ipython",
    "version": 3
   },
   "file_extension": ".py",
   "mimetype": "text/x-python",
   "name": "python",
   "nbconvert_exporter": "python",
   "pygments_lexer": "ipython3",
   "version": "3.8.5"
  }
 },
 "nbformat": 4,
 "nbformat_minor": 4
}
