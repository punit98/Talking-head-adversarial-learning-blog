{
 "cells": [
  {
   "cell_type": "code",
   "execution_count": null,
   "metadata": {},
   "outputs": [],
   "source": [
    "\n",
    "from random import randint\n",
    "\n",
    "print(\"KEY GENERATION\")\n",
    "\n",
    "# prime number function\n",
    "def is_prime(num):\n",
    "    if num < 2:\n",
    "        return False\n",
    "    for i in range(2, num // 2 + 1):\n",
    "        if num % i == 0:\n",
    "            return False\n",
    "    return True\n",
    "\n",
    "# euclidian function\n",
    "def euclidgcd(e, phi_N):\n",
    "    if phi_N == 0:\n",
    "        return e\n",
    "    else:\n",
    "        return euclidgcd(phi_N, e % phi_N)\n",
    "\n",
    "\n",
    "start = 999\n",
    "end = 9999\n",
    "found = False\n",
    "while not found:\n",
    "    num = randint(start, end)\n",
    "    found = is_prime(num)\n",
    "p = num\n",
    "found = False\n",
    "while not found:\n",
    "    num = randint(start, end)\n",
    "    found = is_prime(num)\n",
    "q = num\n",
    "N = p * q\n",
    "phi_N = (p - 1) * (q - 1)\n",
    "e = int(999)\n",
    "while e < phi_N:\n",
    "    if euclidgcd(e, phi_N) == 1:\n",
    "        break\n",
    "    else:\n",
    "        e = e + 1\n",
    "temp = 5000\n",
    "while ((e * temp) % phi_N) != 1:\n",
    "    temp = temp + 1\n",
    "d = temp\n",
    "print(\"p\", p)\n",
    "print(\"q\", q)\n",
    "print(\"N\", N)\n",
    "print(\"Phi_N\", phi_N)\n",
    "print(\"e\", e)\n",
    "print(\"d\", d)\n",
    "print(\"public key\", e, N)\n",
    "print(\"private key\", d, N)\n"
   ]
  },
  {
   "cell_type": "code",
   "execution_count": null,
   "metadata": {},
   "outputs": [],
   "source": []
  }
 ],
 "metadata": {
  "kernelspec": {
   "display_name": "Python 3",
   "language": "python",
   "name": "python3"
  },
  "language_info": {
   "codemirror_mode": {
    "name": "ipython",
    "version": 3
   },
   "file_extension": ".py",
   "mimetype": "text/x-python",
   "name": "python",
   "nbconvert_exporter": "python",
   "pygments_lexer": "ipython3",
   "version": "3.8.5"
  }
 },
 "nbformat": 4,
 "nbformat_minor": 4
}
